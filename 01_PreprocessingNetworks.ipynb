{
 "cells": [
  {
   "cell_type": "markdown",
   "id": "1e715558-9aba-4bc6-b871-68c8ef9e7f2d",
   "metadata": {},
   "source": [
    "In this notebook we'll process the networks inside the folder with the same name, in this way, we are going to add some headers, retrieve coordinates of network nodes and merge with the metadata we obtained from interproscan (go terms and functional annotation). In this way, finally, we'll have a  very informative and easy to use table for tableu. \n",
    "\n",
    "We'll be using bash and python to acomplish this, let's import the python libraries"
   ]
  },
  {
   "cell_type": "code",
   "execution_count": 1,
   "id": "3c3f1542-6067-40e0-9e92-6528100fe0b4",
   "metadata": {
    "tags": []
   },
   "outputs": [],
   "source": [
    "import pandas as pd\n",
    "import numpy as np\n",
    "import os"
   ]
  },
  {
   "cell_type": "markdown",
   "id": "fd401d09-4f11-46b8-b4dc-21d7c03c913c",
   "metadata": {},
   "source": [
    "## Preprocessing\n",
    "\n",
    "Now it's time to start, firts, we'll begin adding some headers to the networks. Basically, each column is describing the following:\n",
    "\n",
    "1. The id of this interaction\n",
    "2. Transcription Factor TF\n",
    "3. Target TG\n",
    "4. Status of the interactions (is it known or is it new?)\n",
    "5. Organism where that interaction was mapped\n",
    "6. id of the interaction mapped in the organism where that interaction was mapped\n",
    "7. Total organism where that interaction came from\n",
    "8. Foward or Reverse string\n",
    "9. Transcription Unit id of the target\n",
    "\n",
    "To acomplish this, we'll use bash to iterate over the files and append at the beggining of the line the header"
   ]
  },
  {
   "cell_type": "code",
   "execution_count": 2,
   "id": "173ba0e3-d802-4803-91f3-1b0482e6ab11",
   "metadata": {},
   "outputs": [
    {
     "name": "stdout",
     "output_type": "stream",
     "text": [
      "Checking headers in networks/GCF_000005845.2_E_coli_K12_genomic_extended_network_plus_TU.tsv\n",
      "Checking headers in networks/GCF_000006765.1_ASM676v1_P_aeruginosa_PA01_genomic_extended_network_plus_TU.tsv\n",
      "Checking headers in networks/GCF_000006945.2_ASM694v2_S_enterica_LT2_genomic_extended_network_plus_TU.tsv\n",
      "Checking headers in networks/GCF_000009045.1_ASM904v1_B_subtilis_168_genomic_extended_network_plus_TU.tsv\n",
      "Checking headers in networks/GCF_000009645.1_ASM964v1_S_aureus_N315_genomic_extended_network_plus_TU.tsv\n",
      "Checking headers in networks/GCF_000195955.2_ASM19595v2_M_tuberculosis_H37Rv_genomic_extended_network_plus_TU.tsv\n"
     ]
    }
   ],
   "source": [
    "%%bash\n",
    "for net in networks/*tsv; do\n",
    "    \n",
    "    # Note below we are modifying inplace, therefore, I'll check if the headers are already there\n",
    "    HEADER=$(head -n 1 \"${net}\")\n",
    "    EXPECTED_HEADER=$(printf \"id_net\\ttf\\ttg\\tstatus\\torg_reference\\tid_net_reference\\tcount_org_reference\\tstring\\ttu_unit\")\n",
    "    \n",
    "    echo \"Checking headers in ${net}\"\n",
    "    \n",
    "    if [ \"${HEADER}\" != \"${EXPECTED_HEADER}\" ]; then\n",
    "        printf \"\\tAdding header\\n\"\n",
    "        sed -i \"1s/^/${EXPECTED_HEADER}\\n/\" \"${net}\"\n",
    "    fi\n",
    "done"
   ]
  },
  {
   "cell_type": "markdown",
   "id": "b528ce13-4691-432f-864c-2d598c2a8f4b",
   "metadata": {},
   "source": [
    "From here we'll use cytoscape to load our networks and apply some layout. You need to launch manually the software by clicking on it or calling it directly from the terminal. In my case, it would be like\n",
    "\n",
    "```bash ~/Cytoscape_v3.8.2/cytoscape.sh```\n",
    "\n",
    "Cytoscape allows calls from python and R to automatize processes, however, I'll apply an organic layout from the app **yFiles** and, unfortunately, it does not accept automatization; therefore, the loading and applying of layout will be done manually. In this way, you'll need to load the networks in *File -> import -> Network from file* and select the tsv networks. I'll use only the *tf* (source node), *tg* (target node) and *status* (edge attribute) columns. From here, select *layout -> yFiles organic layout* to finally save the nets in *File -> export -> Network to File* and save it as xgmml. This last file contains the coordinates of the nodes. Those files will be in the same folder of networks.\n",
    "\n",
    "Now we'll retrieve the node id, node label, y,x coordinates and edges as a tabular format. Those files will be saved in the folder *CoordinatesNetworks*"
   ]
  },
  {
   "cell_type": "code",
   "execution_count": 3,
   "id": "77393166-09d5-4d27-941d-b21c3281a301",
   "metadata": {
    "tags": []
   },
   "outputs": [],
   "source": [
    "%%bash\n",
    "\n",
    "if [ ! -d \"CoordinatesNetworks\" ]; then\n",
    "    echo \"Creating folder: CoordinatesNetworks\"\n",
    "    mkdir CoordinatesNetworks\n",
    "fi"
   ]
  },
  {
   "cell_type": "code",
   "execution_count": 4,
   "id": "b260dbc9-169f-440d-b74c-d5c40387a5da",
   "metadata": {
    "tags": []
   },
   "outputs": [
    {
     "name": "stdout",
     "output_type": "stream",
     "text": [
      "Getting nodes in: networks/GCF_000005845.2_E_coli_K12_genomic_extended_network_plus_TU.tsv.xgmml\n",
      "Getting edges in: networks/GCF_000005845.2_E_coli_K12_genomic_extended_network_plus_TU.tsv.xgmml\n",
      "Getting nodes in: networks/GCF_000006765.1_ASM676v1_P_aeruginosa_PA01_genomic_extended_network_plus_TU.tsv.xgmml\n",
      "Getting edges in: networks/GCF_000006765.1_ASM676v1_P_aeruginosa_PA01_genomic_extended_network_plus_TU.tsv.xgmml\n",
      "Getting nodes in: networks/GCF_000006945.2_ASM694v2_S_enterica_LT2_genomic_extended_network_plus_TU.tsv.xgmml\n",
      "Getting edges in: networks/GCF_000006945.2_ASM694v2_S_enterica_LT2_genomic_extended_network_plus_TU.tsv.xgmml\n",
      "Getting nodes in: networks/GCF_000009045.1_ASM904v1_B_subtilis_168_genomic_extended_network_plus_TU.tsv.xgmml\n",
      "Getting edges in: networks/GCF_000009045.1_ASM904v1_B_subtilis_168_genomic_extended_network_plus_TU.tsv.xgmml\n",
      "Getting nodes in: networks/GCF_000009645.1_ASM964v1_S_aureus_N315_genomic_extended_network_plus_TU.tsv.xgmml\n",
      "Getting edges in: networks/GCF_000009645.1_ASM964v1_S_aureus_N315_genomic_extended_network_plus_TU.tsv.xgmml\n",
      "Getting nodes in: networks/GCF_000195955.2_ASM19595v2_M_tuberculosis_H37Rv_genomic_extended_network_plus_TU.tsv.xgmml\n",
      "Getting edges in: networks/GCF_000195955.2_ASM19595v2_M_tuberculosis_H37Rv_genomic_extended_network_plus_TU.tsv.xgmml\n"
     ]
    }
   ],
   "source": [
    "%%bash\n",
    "\n",
    "PATH_OUTPUTH=\"CoordinatesNetworks/\"\n",
    "\n",
    "for xgmml in networks/*xgmml; do \n",
    "\n",
    "    BASENAME=$(basename $xgmml)\n",
    "    NODE_FILE_NAME=$(printf \"${PATH_OUTPUTH}${BASENAME}.node.tsv\")\n",
    "    echo \"Getting nodes in: ${xgmml}\"\n",
    "    \n",
    "    # Getting node coordinates\n",
    "    grep -P \"(<node |<graphics )\" \"${xgmml}\"|\n",
    "        sed -r ':r;$!{N;br};s/\\n\\s+<graphics/ /g' | \n",
    "        sed -r 's/(\\s+<node\\s+|>|\\w+=|\")//g' | \n",
    "        sed -r 's/\\s+/\\t/g' | \n",
    "        cut -f1,2,5,9 | \n",
    "        sed '1s/^/id_node\\tlabel\\tx\\ty\\n/' > \"${NODE_FILE_NAME}\"\n",
    "\n",
    "    EDGE_FILE_NAME=$(printf \"${PATH_OUTPUTH}${BASENAME}.edge.tsv\")\n",
    "    echo \"Getting edges in: ${xgmml}\"\n",
    "    \n",
    "    # Getting edge relations\n",
    "    grep -P '(<edge\\s+|<att\\s+name=\"status\" value=\"\\S+\")' \"${xgmml}\" |\n",
    "        grep -oP '(source=\"\\S+\"\\s+target=\"\\S+\"|value=\"\\S+\")' |\n",
    "        sed -r ':r;$!{N;br};s/\\nvalue/ value/g' |\n",
    "        sed -r 's/(\\S+=|\")//g' |\n",
    "        sed -r 's/\\s+/\\t/g' |\n",
    "        sed '1s/^/source\\ttarget\\tstatus_interaction\\n/' > \"${EDGE_FILE_NAME}\"\n",
    "\n",
    "done"
   ]
  },
  {
   "cell_type": "markdown",
   "id": "fef9f28f-2e6a-45e8-93b8-9c039868f56c",
   "metadata": {
    "tags": []
   },
   "source": [
    "Those files look like"
   ]
  },
  {
   "cell_type": "code",
   "execution_count": 5,
   "id": "c0d224e1-5105-4b2d-8566-ef7a254a530b",
   "metadata": {
    "tags": []
   },
   "outputs": [
    {
     "name": "stdout",
     "output_type": "stream",
     "text": [
      "source\ttarget\tstatus_interaction\n",
      "7581\t1486\tKnown\n",
      "7581\t1484\tKnown\n",
      "7581\t1482\tKnown\n",
      "7581\t917\tKnown\n",
      "7581\t915\tKnown\n",
      "7563\t5998\tKnown\n",
      "7563\t1725\tKnown\n",
      "7563\t5949\tKnown\n",
      "7563\t5947\tKnown\n"
     ]
    }
   ],
   "source": [
    "%%bash\n",
    "\n",
    "head CoordinatesNetworks/GCF_000005845.2_E_coli_K12_genomic_extended_network_plus_TU.tsv.xgmml.edge.tsv"
   ]
  },
  {
   "cell_type": "code",
   "execution_count": 6,
   "id": "e304fae3-dc9b-41d2-8efe-56e5afff8817",
   "metadata": {
    "tags": []
   },
   "outputs": [
    {
     "name": "stdout",
     "output_type": "stream",
     "text": [
      "id_node  label                       x                    y\n",
      "7581     YP_026246.1                 -299.6598532119333   -941.3007732911692\n",
      "7563     YP_026222.1                 -1030.6598532119333  -772.3007732911692\n",
      "7532     NP_418049.1                 1757.7666016983903   984.5165987943656\n",
      "7475     NP_416686.1                 1941.913691877743    878.1992267088308\n",
      "7465     NP_416045.1                 1757.7666016983903   771.881854623296\n",
      "7365     NP_416959.1                 917.3401467880667    705.6992267088308\n",
      "7357     NP_417053.2                 1479.3401467880658   53.69922670883079\n",
      "7334     NP_416219.1                 4666.3421134646205   -215.64317887042944\n",
      "7332     NP_415781.1                 4759.133635319123    -289.6419482632955\n"
     ]
    }
   ],
   "source": [
    "%%bash\n",
    "\n",
    "column -s$'\\t' -t CoordinatesNetworks/GCF_000005845.2_E_coli_K12_genomic_extended_network_plus_TU.tsv.xgmml.node.tsv | head"
   ]
  },
  {
   "cell_type": "markdown",
   "id": "1492ddf6-e9cd-46ff-928b-9e20c77efed4",
   "metadata": {},
   "source": [
    "Now It's time to merge everything into one file with the node coordinates and the metadata obtained from interproscan that we have been processing. We'll need to load the files with the coordinates, interaction and the data of interproscan as follows:"
   ]
  },
  {
   "cell_type": "code",
   "execution_count": 7,
   "id": "24502ef2-9ae3-40ac-80b6-3975c5525c2c",
   "metadata": {},
   "outputs": [],
   "source": [
    "coordinates_path = \"CoordinatesNetworks\"\n",
    "full_results_path = \"InterproFullMerge/\"\n",
    "\n",
    "files_list_coordinates = os.listdir(coordinates_path)\n",
    "files_list_full = os.listdir(full_results_path)\n",
    "\n",
    "files_nodes_names = [file for file in files_list_coordinates if file.endswith(\"node.tsv\")] \n",
    "files_edges_names = [file for file in files_list_coordinates if file.endswith(\"edge.tsv\")] \n",
    "\n",
    "files_nodes_names.sort()\n",
    "files_edges_names.sort()\n",
    "files_list_full.sort()"
   ]
  },
  {
   "cell_type": "code",
   "execution_count": 8,
   "id": "e3d8165e-91c0-44a1-ba66-508913108465",
   "metadata": {
    "tags": []
   },
   "outputs": [
    {
     "data": {
      "text/plain": [
       "['GCF_000005845.2_E_coli_K12_genomic_extended_network_plus_TU.tsv.xgmml.node.tsv',\n",
       " 'GCF_000006765.1_ASM676v1_P_aeruginosa_PA01_genomic_extended_network_plus_TU.tsv.xgmml.node.tsv',\n",
       " 'GCF_000006945.2_ASM694v2_S_enterica_LT2_genomic_extended_network_plus_TU.tsv.xgmml.node.tsv',\n",
       " 'GCF_000009045.1_ASM904v1_B_subtilis_168_genomic_extended_network_plus_TU.tsv.xgmml.node.tsv',\n",
       " 'GCF_000009645.1_ASM964v1_S_aureus_N315_genomic_extended_network_plus_TU.tsv.xgmml.node.tsv',\n",
       " 'GCF_000195955.2_ASM19595v2_M_tuberculosis_H37Rv_genomic_extended_network_plus_TU.tsv.xgmml.node.tsv']"
      ]
     },
     "execution_count": 8,
     "metadata": {},
     "output_type": "execute_result"
    }
   ],
   "source": [
    "files_nodes_names"
   ]
  },
  {
   "cell_type": "code",
   "execution_count": 9,
   "id": "8019e796-fa19-44dd-8577-87dfc79bbcfe",
   "metadata": {
    "tags": []
   },
   "outputs": [
    {
     "data": {
      "text/plain": [
       "['GCF_000005845.2_E_coli_K12_genomic_extended_network_plus_TU.tsv.xgmml.edge.tsv',\n",
       " 'GCF_000006765.1_ASM676v1_P_aeruginosa_PA01_genomic_extended_network_plus_TU.tsv.xgmml.edge.tsv',\n",
       " 'GCF_000006945.2_ASM694v2_S_enterica_LT2_genomic_extended_network_plus_TU.tsv.xgmml.edge.tsv',\n",
       " 'GCF_000009045.1_ASM904v1_B_subtilis_168_genomic_extended_network_plus_TU.tsv.xgmml.edge.tsv',\n",
       " 'GCF_000009645.1_ASM964v1_S_aureus_N315_genomic_extended_network_plus_TU.tsv.xgmml.edge.tsv',\n",
       " 'GCF_000195955.2_ASM19595v2_M_tuberculosis_H37Rv_genomic_extended_network_plus_TU.tsv.xgmml.edge.tsv']"
      ]
     },
     "execution_count": 9,
     "metadata": {},
     "output_type": "execute_result"
    }
   ],
   "source": [
    "files_edges_names"
   ]
  },
  {
   "cell_type": "code",
   "execution_count": 10,
   "id": "71a6735f-84bb-42d9-b2de-58258a98ef5f",
   "metadata": {
    "tags": []
   },
   "outputs": [
    {
     "data": {
      "text/plain": [
       "['GCF_000005845.2_E_coli_K12_genomic.faa.tsv.full.tsv',\n",
       " 'GCF_000006765.1_ASM676v1_P_aeruginosa_PA01_genomic.faa.tsv.full.tsv',\n",
       " 'GCF_000006945.2_ASM694v2_S_enterica_LT2_genomic.faa.tsv.full.tsv',\n",
       " 'GCF_000009045.1_ASM904v1_B_subtilis_168_genomic.faa.tsv.full.tsv',\n",
       " 'GCF_000009645.1_ASM964v1_S_aureus_N315_genomic.faa.tsv.full.tsv',\n",
       " 'GCF_000195955.2_ASM19595v2_M_tuberculosis_H37Rv_genomic.faa.tsv.full.tsv']"
      ]
     },
     "execution_count": 10,
     "metadata": {},
     "output_type": "execute_result"
    }
   ],
   "source": [
    "files_list_full"
   ]
  },
  {
   "cell_type": "markdown",
   "id": "dc423d7f-0cb9-4207-99d7-5db5fdd54f7b",
   "metadata": {},
   "source": [
    "As you can see, because of the format naming we have been using all the name files matches in the order, so we'll iterate simultaneously. In addition, the files with the information about the edges contain the ID rather than the name of the nodes. so I'll create a function to add a column with that data and it'll be used later"
   ]
  },
  {
   "cell_type": "code",
   "execution_count": 11,
   "id": "ea7546ad-767f-46c3-8e66-66f89ea077f4",
   "metadata": {
    "tags": []
   },
   "outputs": [],
   "source": [
    "def AddSourceTargetLabel(left:pd.DataFrame, right:pd.DataFrame,\n",
    "                         keydict:dict, drop:list=None,\n",
    "                         rename:dict=None) -> pd.DataFrame:\n",
    "    \n",
    "    df = left.merge(right, **keydict)\n",
    "    \n",
    "    if drop:\n",
    "        df.drop(drop, axis=1, inplace=True)\n",
    "        \n",
    "    if rename:\n",
    "        df.rename(rename, axis=1, inplace=True)\n",
    "    \n",
    "    return df"
   ]
  },
  {
   "cell_type": "markdown",
   "id": "66fb44c4-42ee-4355-982a-f1b484c392a0",
   "metadata": {},
   "source": [
    "Now let's put all the pieces together, take your time to decode the cell below."
   ]
  },
  {
   "cell_type": "code",
   "execution_count": 32,
   "id": "f6a06abe-963b-48da-8b6a-bea383ca98c2",
   "metadata": {
    "tags": []
   },
   "outputs": [],
   "source": [
    "# Labels to filter what organism we want in the network (useful for tableu)\n",
    "organism_names = [\"E.coli\",\"P.aeruginosa\",\"S.enterica\",\"B.subtilis\",\"S.aureus\",\"M.tuberculosis\"]\n",
    "\n",
    "# Columns that will be maintained at the end\n",
    "important_columns = ['source', 'target', \"source_label\",\"target_label\",\n",
    "                     'status_interaction','id_node','node_label', 'x', 'y',\n",
    "                     'organism','analysis', 'id_analysis', 'desc_analysis',\n",
    "                     'id_inter', 'desc_inter', 'id_go', 'type']\n",
    "\n",
    "arguments_add_source_function = {\"how\":\"left\", \"left_on\":\"source\", \"right_on\":\"id_node\"}\n",
    "arguments_add_target_function = {\"how\":\"left\", \"left_on\":\"target\", \"right_on\":\"id_node\"}\n",
    "\n",
    "# All files will be saved into one big file\n",
    "interactions_all_organism_df = pd.DataFrame()\n",
    "\n",
    "iterator = zip(files_nodes_names, files_edges_names, files_list_full, organism_names)\n",
    "\n",
    "for f_n, f_e, f_f, organism in iterator:\n",
    "    \n",
    "    nodes_df = pd.read_csv(os.path.join(coordinates_path, f_n), sep=\"\\t\")\n",
    "    edges_df = pd.read_csv(os.path.join(coordinates_path, f_e), sep=\"\\t\")\n",
    "    metadata_df = pd.read_csv(os.path.join(full_results_path, f_f), sep=\"\\t\")\n",
    "    \n",
    "    # In order to have both directions of the interaction, merge for source and target\n",
    "    source_df = edges_df.merge(nodes_df, how=\"left\", right_on=\"id_node\", left_on=\"source\")\n",
    "    target_df = edges_df.merge(nodes_df, how=\"left\", right_on=\"id_node\", left_on=\"target\")\n",
    "    \n",
    "    # Each row represent the info about a node and this node could be either a source or target\n",
    "    # so I'll specify this in the table by renaming the col and also adding the respective\n",
    "    # organism\n",
    "    main_df = pd.concat([source_df, target_df])\n",
    "    main_df[\"organism\"] = organism\n",
    "    main_df.rename({\"label\":\"node_label\"}, axis=1, inplace=True)\n",
    "    \n",
    "    # In addition of the id in source and target, add the label to source and target\n",
    "    main_df = AddSourceTargetLabel(main_df, nodes_df[[\"id_node\",\"label\"]],\n",
    "                                   arguments_add_source_function, [\"id_node_y\"],\n",
    "                                   {\"id_node_x\": \"id_node\", \"label\":\"source_label\"})\n",
    "    \n",
    "    main_df = AddSourceTargetLabel(main_df, nodes_df[[\"id_node\",\"label\"]],\n",
    "                                   arguments_add_target_function, [\"id_node_y\"],\n",
    "                                   {\"id_node_x\": \"id_node\", \"label\":\"target_label\"})\n",
    "    \n",
    "    # Combine the info from the networks with the interproscan metadata based on the node\n",
    "    # and not with the source or target label directly (node already count for this)\n",
    "    data_df = main_df.merge(metadata_df, how=\"left\", left_on=\"node_label\", right_on=\"id_protein\")\n",
    "    data_df = data_df[important_columns]\n",
    "\n",
    "    interactions_all_organism_df = pd.concat([interactions_all_organism_df, data_df])  \n",
    "\n",
    "# Saving\n",
    "interactions_all_organism_df.to_csv(\"Data/network_all_info.tsv\", header=True,\n",
    "                                    index=False, na_rep=\"NaN\", sep=\"\\t\")"
   ]
  },
  {
   "cell_type": "code",
   "execution_count": null,
   "id": "96ff63d6-47a2-48f2-8a3a-61c3099acb02",
   "metadata": {},
   "outputs": [],
   "source": []
  }
 ],
 "metadata": {
  "kernelspec": {
   "display_name": "Python 3 (ipykernel)",
   "language": "python",
   "name": "python3"
  },
  "language_info": {
   "codemirror_mode": {
    "name": "ipython",
    "version": 3
   },
   "file_extension": ".py",
   "mimetype": "text/x-python",
   "name": "python",
   "nbconvert_exporter": "python",
   "pygments_lexer": "ipython3",
   "version": "3.11.0"
  }
 },
 "nbformat": 4,
 "nbformat_minor": 5
}
